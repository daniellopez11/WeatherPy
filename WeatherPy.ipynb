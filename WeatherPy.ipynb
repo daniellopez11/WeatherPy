{
 "cells": [
  {
   "cell_type": "markdown",
   "metadata": {},
   "source": [
    "# Weather Analysis\n",
    "## Overview\n",
    "### This Python script will visualize the weather of 500 unique cities across the world in random locations using Citypy. Citipy is a simple city-finding python package that was used to find randomly located cities. The OpenWeatherMap API was used to return current weather statistics for those cities.\n",
    "### A series of scatter plots will be used to showcase the following relationships:\n",
    "* Temperature (F) vs. Latitude.\n",
    "* Humidity (%) vs. Latitude.\n",
    "* Cloudiness (%) vs. Latitude.\n",
    "* Wind Speed (mph) vs. Latitude.\n",
    "### The script will:\n",
    "* Randomly select at least 500 unique (non-repeat) cities based on latitude and longitude.\n",
    "* Perform a weather check on each of the cities using a series of successive API calls.\n",
    "* Include a print log of each city as it's being processed with the city number, city name, and requested URL.\n",
    "* Save both a CSV of all data retrieved and png images for each scatter plot."
   ]
  },
  {
   "cell_type": "markdown",
   "metadata": {
    "collapsed": true
   },
   "source": [
    "# WeatherPy\n",
    "---\n",
    "'''\n",
    "Observable Trends:\n",
    "1.\n",
    "2.\n",
    "3.\n",
    "'''"
   ]
  },
  {
   "cell_type": "code",
   "execution_count": 1,
   "metadata": {
    "collapsed": true
   },
   "outputs": [],
   "source": [
    "# Dependencies\n",
    "import json\n",
    "import requests\n",
    "import random\n",
    "import pandas as pd\n",
    "import numpy as np\n",
    "import time\n",
    "from citipy import citipy\n",
    "import matplotlib.pyplot as plt\n",
    "import seaborn as sns\n",
    "\n",
    "# Import Open Weather Map API keys.\n",
    "from owm_api_key import api_key"
   ]
  },
  {
   "cell_type": "markdown",
   "metadata": {
    "collapsed": true
   },
   "source": [
    "## Data Retrieval"
   ]
  },
  {
   "cell_type": "code",
   "execution_count": 3,
   "metadata": {},
   "outputs": [],
   "source": [
    "# Declare variables describing the scope of lat/lng search for cities. \n",
    "# Lat ranges from -90 to 90. Lng ranges from -180 to 180.\n",
    "lat = {'min': -90, 'max': 90}\n",
    "lng = {'min': -180, 'max': 180}\n",
    "\n",
    "# Create arrays containing increments of lat and long.\n",
    "lat_values = np.arange(lat['min'], lat['max'], 0.01)\n",
    "lng_values = np.arange(lng['min'], lng['max'], 0.01)"
   ]
  },
  {
   "cell_type": "code",
   "execution_count": 4,
   "metadata": {},
   "outputs": [
    {
     "data": {
      "text/html": [
       "<div>\n",
       "<table border=\"1\" class=\"dataframe\">\n",
       "  <thead>\n",
       "    <tr style=\"text-align: right;\">\n",
       "      <th></th>\n",
       "      <th>city_name</th>\n",
       "      <th>country_code</th>\n",
       "      <th>rand_lat</th>\n",
       "      <th>rand_lng</th>\n",
       "      <th>Latitude</th>\n",
       "      <th>Longitude</th>\n",
       "      <th>Temp (F)</th>\n",
       "      <th>Humidity (%)</th>\n",
       "      <th>Cloudiness (%)</th>\n",
       "      <th>Wind Speed (mph)</th>\n",
       "    </tr>\n",
       "  </thead>\n",
       "  <tbody>\n",
       "  </tbody>\n",
       "</table>\n",
       "</div>"
      ],
      "text/plain": [
       "Empty DataFrame\n",
       "Columns: [city_name, country_code, rand_lat, rand_lng, Latitude, Longitude, Temp (F), Humidity (%), Cloudiness (%), Wind Speed (mph)]\n",
       "Index: []"
      ]
     },
     "execution_count": 4,
     "metadata": {},
     "output_type": "execute_result"
    }
   ],
   "source": [
    "# Create an empty data frame to city and weather data\n",
    "column_names = ('city_name', 'country_code', 'rand_lat', 'rand_lng', 'Latitude', 'Longitude','Temp (F)',\n",
    "            'Humidity (%)','Cloudiness (%)','Wind Speed (mph)')\n",
    "cities_df = pd.DataFrame(columns = column_names)\n",
    "cities_df"
   ]
  },
  {
   "cell_type": "code",
   "execution_count": 5,
   "metadata": {},
   "outputs": [
    {
     "name": "stdout",
     "output_type": "stream",
     "text": [
      "Status code: 200 DF Length is now: 1\n",
      "City: Jamestown. http://api.openweathermap.org/data/2.5/weather?q=jamestown,sh&units=imperial&APPID=b058195e4179dda90e7316cc7ec35d34\n",
      "Status code: 200 DF Length is now: 2\n",
      "City: Paihia. http://api.openweathermap.org/data/2.5/weather?q=russell,nz&units=imperial&APPID=b058195e4179dda90e7316cc7ec35d34\n",
      "Status code: 200 DF Length is now: 3\n",
      "City: Najran. http://api.openweathermap.org/data/2.5/weather?q=najran,sa&units=imperial&APPID=b058195e4179dda90e7316cc7ec35d34\n",
      "Status code: 200 DF Length is now: 4\n",
      "City: Westport. http://api.openweathermap.org/data/2.5/weather?q=westport,nz&units=imperial&APPID=b058195e4179dda90e7316cc7ec35d34\n",
      "Status code: 200 DF Length is now: 5\n",
      "City: Hilo. http://api.openweathermap.org/data/2.5/weather?q=hilo,us&units=imperial&APPID=b058195e4179dda90e7316cc7ec35d34\n",
      "Status code: 200 DF Length is now: 6\n",
      "City: Pirapo. http://api.openweathermap.org/data/2.5/weather?q=pirapo,py&units=imperial&APPID=b058195e4179dda90e7316cc7ec35d34\n",
      "Status code: 200 DF Length is now: 7\n",
      "City: Halifax. http://api.openweathermap.org/data/2.5/weather?q=halifax,ca&units=imperial&APPID=b058195e4179dda90e7316cc7ec35d34\n",
      "Status code: 200 DF Length is now: 8\n",
      "City: San Patricio. http://api.openweathermap.org/data/2.5/weather?q=san patricio,mx&units=imperial&APPID=b058195e4179dda90e7316cc7ec35d34\n",
      "Status code: 200 DF Length is now: 9\n",
      "City: Preston. http://api.openweathermap.org/data/2.5/weather?q=preston,us&units=imperial&APPID=b058195e4179dda90e7316cc7ec35d34\n",
      "Status code: 200 DF Length is now: 10\n",
      "City: Fukue. http://api.openweathermap.org/data/2.5/weather?q=fukue,jp&units=imperial&APPID=b058195e4179dda90e7316cc7ec35d34\n",
      "Status code: 200 DF Length is now: 11\n",
      "City: Khromtau. http://api.openweathermap.org/data/2.5/weather?q=khromtau,kz&units=imperial&APPID=b058195e4179dda90e7316cc7ec35d34\n",
      "Status code: 200 DF Length is now: 12\n",
      "City: Quba. http://api.openweathermap.org/data/2.5/weather?q=quba,az&units=imperial&APPID=b058195e4179dda90e7316cc7ec35d34\n",
      "Status code: 200 DF Length is now: 13\n",
      "City: Kapaa. http://api.openweathermap.org/data/2.5/weather?q=kapaa,us&units=imperial&APPID=b058195e4179dda90e7316cc7ec35d34\n",
      "Status code: 200 DF Length is now: 14\n",
      "City: Rio Gallegos. http://api.openweathermap.org/data/2.5/weather?q=rio gallegos,ar&units=imperial&APPID=b058195e4179dda90e7316cc7ec35d34\n",
      "Status code: 200 DF Length is now: 15\n",
      "City: Rikitea. http://api.openweathermap.org/data/2.5/weather?q=rikitea,pf&units=imperial&APPID=b058195e4179dda90e7316cc7ec35d34\n",
      "Status code: 200 DF Length is now: 16\n",
      "City: Edinburg. http://api.openweathermap.org/data/2.5/weather?q=edinburg,us&units=imperial&APPID=b058195e4179dda90e7316cc7ec35d34\n",
      "Status code: 200 DF Length is now: 17\n",
      "City: Nome. http://api.openweathermap.org/data/2.5/weather?q=nome,us&units=imperial&APPID=b058195e4179dda90e7316cc7ec35d34\n",
      "Status code: 200 DF Length is now: 18\n",
      "City: Fortuna. http://api.openweathermap.org/data/2.5/weather?q=fortuna,us&units=imperial&APPID=b058195e4179dda90e7316cc7ec35d34\n",
      "Status code: 200 DF Length is now: 19\n",
      "City: Mar del Plata. http://api.openweathermap.org/data/2.5/weather?q=mar del plata,ar&units=imperial&APPID=b058195e4179dda90e7316cc7ec35d34\n",
      "Status code: 200 DF Length is now: 20\n",
      "City: Kokstad. http://api.openweathermap.org/data/2.5/weather?q=umzimvubu,za&units=imperial&APPID=b058195e4179dda90e7316cc7ec35d34\n",
      "Status code: 200 DF Length is now: 21\n",
      "City: Albany. http://api.openweathermap.org/data/2.5/weather?q=albany,au&units=imperial&APPID=b058195e4179dda90e7316cc7ec35d34\n",
      "Status code: 200 DF Length is now: 22\n",
      "City: Clyde River. http://api.openweathermap.org/data/2.5/weather?q=clyde river,ca&units=imperial&APPID=b058195e4179dda90e7316cc7ec35d34\n",
      "Status code: 200 DF Length is now: 23\n",
      "City: Bredasdorp. http://api.openweathermap.org/data/2.5/weather?q=bredasdorp,za&units=imperial&APPID=b058195e4179dda90e7316cc7ec35d34\n",
      "Status code: 200 DF Length is now: 24\n",
      "City: Ushuaia. http://api.openweathermap.org/data/2.5/weather?q=ushuaia,ar&units=imperial&APPID=b058195e4179dda90e7316cc7ec35d34\n",
      "Status code: 200 DF Length is now: 25\n",
      "City: Tasiilaq. http://api.openweathermap.org/data/2.5/weather?q=tasiilaq,gl&units=imperial&APPID=b058195e4179dda90e7316cc7ec35d34\n",
      "Status code: 200 DF Length is now: 26\n",
      "City: Chokurdakh. http://api.openweathermap.org/data/2.5/weather?q=chokurdakh,ru&units=imperial&APPID=b058195e4179dda90e7316cc7ec35d34\n",
      "Status code: 200 DF Length is now: 27\n",
      "City: Qaanaaq. http://api.openweathermap.org/data/2.5/weather?q=qaanaaq,gl&units=imperial&APPID=b058195e4179dda90e7316cc7ec35d34\n",
      "Status code: 200 DF Length is now: 28\n",
      "City: Gobolka Jubbada Hoose. http://api.openweathermap.org/data/2.5/weather?q=afmadu,so&units=imperial&APPID=b058195e4179dda90e7316cc7ec35d34\n",
      "Status code: 200 DF Length is now: 29\n",
      "City: Ushuaia. http://api.openweathermap.org/data/2.5/weather?q=ushuaia,ar&units=imperial&APPID=b058195e4179dda90e7316cc7ec35d34\n",
      "Status code: 200 DF Length is now: 30\n",
      "City: Talnakh. http://api.openweathermap.org/data/2.5/weather?q=talnakh,ru&units=imperial&APPID=b058195e4179dda90e7316cc7ec35d34\n",
      "Status code: 200 DF Length is now: 31\n",
      "City: Hobart. http://api.openweathermap.org/data/2.5/weather?q=hobart,au&units=imperial&APPID=b058195e4179dda90e7316cc7ec35d34\n",
      "Status code: 200 DF Length is now: 32\n",
      "City: Punta Arenas. http://api.openweathermap.org/data/2.5/weather?q=punta arenas,cl&units=imperial&APPID=b058195e4179dda90e7316cc7ec35d34\n",
      "Status code: 200 DF Length is now: 33\n",
      "City: Hilo. http://api.openweathermap.org/data/2.5/weather?q=hilo,us&units=imperial&APPID=b058195e4179dda90e7316cc7ec35d34\n",
      "Status code: 200 DF Length is now: 34\n",
      "City: Tambovka. http://api.openweathermap.org/data/2.5/weather?q=tambovka,ru&units=imperial&APPID=b058195e4179dda90e7316cc7ec35d34\n",
      "Status code: 200 DF Length is now: 35\n",
      "City: Avarua. http://api.openweathermap.org/data/2.5/weather?q=avarua,ck&units=imperial&APPID=b058195e4179dda90e7316cc7ec35d34\n",
      "Status code: 200 DF Length is now: 36\n",
      "City: Ketchikan. http://api.openweathermap.org/data/2.5/weather?q=ketchikan,us&units=imperial&APPID=b058195e4179dda90e7316cc7ec35d34\n",
      "Status code: 200 DF Length is now: 37\n",
      "City: Ushuaia. http://api.openweathermap.org/data/2.5/weather?q=ushuaia,ar&units=imperial&APPID=b058195e4179dda90e7316cc7ec35d34\n",
      "Status code: 200 DF Length is now: 38\n",
      "City: Bredasdorp. http://api.openweathermap.org/data/2.5/weather?q=bredasdorp,za&units=imperial&APPID=b058195e4179dda90e7316cc7ec35d34\n",
      "Status code: 200 DF Length is now: 39\n",
      "City: Wulan. http://api.openweathermap.org/data/2.5/weather?q=erenhot,cn&units=imperial&APPID=b058195e4179dda90e7316cc7ec35d34\n",
      "Status code: 200 DF Length is now: 40\n",
      "City: Butaritari. http://api.openweathermap.org/data/2.5/weather?q=butaritari,ki&units=imperial&APPID=b058195e4179dda90e7316cc7ec35d34\n",
      "Status code: 200 DF Length is now: 41\n",
      "City: Kuju. http://api.openweathermap.org/data/2.5/weather?q=kuju,in&units=imperial&APPID=b058195e4179dda90e7316cc7ec35d34\n",
      "Status code: 200 DF Length is now: 42\n",
      "City: Hithadhoo. http://api.openweathermap.org/data/2.5/weather?q=hithadhoo,mv&units=imperial&APPID=b058195e4179dda90e7316cc7ec35d34\n",
      "Status code: 200 DF Length is now: 43\n",
      "City: Flinders. http://api.openweathermap.org/data/2.5/weather?q=flinders,au&units=imperial&APPID=b058195e4179dda90e7316cc7ec35d34\n",
      "Status code: 200 DF Length is now: 44\n",
      "City: Vrangel. http://api.openweathermap.org/data/2.5/weather?q=vrangel,ru&units=imperial&APPID=b058195e4179dda90e7316cc7ec35d34\n",
      "Status code: 200 DF Length is now: 45\n",
      "City: Upernavik. http://api.openweathermap.org/data/2.5/weather?q=upernavik,gl&units=imperial&APPID=b058195e4179dda90e7316cc7ec35d34\n",
      "Status code: 200 DF Length is now: 46\n",
      "City: Hobart. http://api.openweathermap.org/data/2.5/weather?q=hobart,au&units=imperial&APPID=b058195e4179dda90e7316cc7ec35d34\n",
      "Status code: 200 DF Length is now: 47\n",
      "City: Palaikastron. http://api.openweathermap.org/data/2.5/weather?q=palaikastron,gr&units=imperial&APPID=b058195e4179dda90e7316cc7ec35d34\n",
      "Status code: 200 DF Length is now: 48\n",
      "City: Trondheim. http://api.openweathermap.org/data/2.5/weather?q=trondheim,no&units=imperial&APPID=b058195e4179dda90e7316cc7ec35d34\n",
      "Status code: 200 DF Length is now: 49\n",
      "City: Sham Churasi. http://api.openweathermap.org/data/2.5/weather?q=saleaula,ws&units=imperial&APPID=b058195e4179dda90e7316cc7ec35d34\n"
     ]
    },
    {
     "name": "stdout",
     "output_type": "stream",
     "text": [
      "Status code: 200 DF Length is now: 50\n",
      "City: Elk. http://api.openweathermap.org/data/2.5/weather?q=elk,pl&units=imperial&APPID=b058195e4179dda90e7316cc7ec35d34\n",
      "------------------------------\n",
      "Data Retrieval Complete\n",
      "------------------------------\n",
      "\n"
     ]
    },
    {
     "data": {
      "text/html": [
       "<div>\n",
       "<table border=\"1\" class=\"dataframe\">\n",
       "  <thead>\n",
       "    <tr style=\"text-align: right;\">\n",
       "      <th></th>\n",
       "      <th>city_name</th>\n",
       "      <th>country_code</th>\n",
       "      <th>rand_lat</th>\n",
       "      <th>rand_lng</th>\n",
       "      <th>Latitude</th>\n",
       "      <th>Longitude</th>\n",
       "      <th>Temp (F)</th>\n",
       "      <th>Humidity (%)</th>\n",
       "      <th>Cloudiness (%)</th>\n",
       "      <th>Wind Speed (mph)</th>\n",
       "    </tr>\n",
       "  </thead>\n",
       "  <tbody>\n",
       "    <tr>\n",
       "      <th>0</th>\n",
       "      <td>jamestown</td>\n",
       "      <td>sh</td>\n",
       "      <td>-26.8</td>\n",
       "      <td>-2.94</td>\n",
       "      <td>-15.94</td>\n",
       "      <td>-5.72</td>\n",
       "      <td>66.56</td>\n",
       "      <td>100</td>\n",
       "      <td>88</td>\n",
       "      <td>13.69</td>\n",
       "    </tr>\n",
       "    <tr>\n",
       "      <th>1</th>\n",
       "      <td>russell</td>\n",
       "      <td>nz</td>\n",
       "      <td>-29.31</td>\n",
       "      <td>179.64</td>\n",
       "      <td>-35.28</td>\n",
       "      <td>174.09</td>\n",
       "      <td>52.25</td>\n",
       "      <td>81</td>\n",
       "      <td>48</td>\n",
       "      <td>19.51</td>\n",
       "    </tr>\n",
       "    <tr>\n",
       "      <th>2</th>\n",
       "      <td>najran</td>\n",
       "      <td>sa</td>\n",
       "      <td>17.86</td>\n",
       "      <td>44.21</td>\n",
       "      <td>17.49</td>\n",
       "      <td>44.13</td>\n",
       "      <td>84.2</td>\n",
       "      <td>25</td>\n",
       "      <td>0</td>\n",
       "      <td>4.7</td>\n",
       "    </tr>\n",
       "    <tr>\n",
       "      <th>3</th>\n",
       "      <td>westport</td>\n",
       "      <td>nz</td>\n",
       "      <td>-39.18</td>\n",
       "      <td>167.87</td>\n",
       "      <td>-41.75</td>\n",
       "      <td>171.6</td>\n",
       "      <td>40.01</td>\n",
       "      <td>100</td>\n",
       "      <td>92</td>\n",
       "      <td>2.28</td>\n",
       "    </tr>\n",
       "    <tr>\n",
       "      <th>4</th>\n",
       "      <td>hilo</td>\n",
       "      <td>us</td>\n",
       "      <td>15.05</td>\n",
       "      <td>-155.15</td>\n",
       "      <td>19.73</td>\n",
       "      <td>-155.09</td>\n",
       "      <td>63.68</td>\n",
       "      <td>94</td>\n",
       "      <td>90</td>\n",
       "      <td>8.05</td>\n",
       "    </tr>\n",
       "  </tbody>\n",
       "</table>\n",
       "</div>"
      ],
      "text/plain": [
       "   city_name country_code rand_lat rand_lng Latitude Longitude Temp (F)  \\\n",
       "0  jamestown           sh    -26.8    -2.94   -15.94     -5.72    66.56   \n",
       "1    russell           nz   -29.31   179.64   -35.28    174.09    52.25   \n",
       "2     najran           sa    17.86    44.21    17.49     44.13     84.2   \n",
       "3   westport           nz   -39.18   167.87   -41.75     171.6    40.01   \n",
       "4       hilo           us    15.05  -155.15    19.73   -155.09    63.68   \n",
       "\n",
       "  Humidity (%) Cloudiness (%) Wind Speed (mph)  \n",
       "0          100             88            13.69  \n",
       "1           81             48            19.51  \n",
       "2           25              0              4.7  \n",
       "3          100             92             2.28  \n",
       "4           94             90             8.05  "
      ]
     },
     "execution_count": 5,
     "metadata": {},
     "output_type": "execute_result"
    }
   ],
   "source": [
    "'''Query Citipy with random lat-long values until we collect our sample, and append weather\n",
    "data via Open Weather Map API call.''' \n",
    "\n",
    "# Set the sample size.\n",
    "sample_size = 50\n",
    "\n",
    "target_url = 'http://api.openweathermap.org/data/2.5/weather?q='\n",
    "units = 'imperial'\n",
    "\n",
    "record = 0\n",
    "\n",
    "# Loop through and grab the Temp, Humidity, Cloudiness and Wind Speed using OpenWeatherMapAPI\n",
    "    \n",
    "while len(cities_df) < sample_size:\n",
    "    # Choose a random point within our lat-lng domain.\n",
    "    rand_lat = random.choice(lat_values)\n",
    "    rand_lng = random.choice(lng_values)\n",
    "    # Call citipy's nearest_city() method to get a city object.\n",
    "    city = citipy.nearest_city(rand_lat, rand_lng)\n",
    "    city_name = city.city_name\n",
    "    country_code = city.country_code\n",
    "    # Call Open Weather Map API to obtain data and append it to df\n",
    "    url = target_url + city_name + ',' + country_code + '&units=' + units + '&APPID=' + api_key\n",
    "    weather_response = requests.get(url)\n",
    "    weather_json = weather_response.json()\n",
    "    print('Status code: %s. DF length is now: %d' % (str(weather_json[\"cod\"]), len(cities_df)+1))\n",
    "    if weather_json[\"cod\"] == 200:\n",
    "        print('City: %s. %s' % (weather_json['name'], url))\n",
    "        latitude = weather_json[\"coord\"][\"lat\"]\n",
    "        longitude = weather_json[\"coord\"][\"lon\"]\n",
    "        temp = weather_json[\"main\"][\"temp\"]\n",
    "        humidity = weather_json[\"main\"][\"humidity\"]\n",
    "        cloud = weather_json[\"clouds\"][\"all\"]\n",
    "        wind = weather_json[\"wind\"][\"speed\"]\n",
    "        # Append data to df columns\n",
    "        cities_df.set_value(record, \"city_name\", city_name)\n",
    "        cities_df.set_value(record, \"country_code\", country_code)\n",
    "        cities_df.set_value(record, \"rand_lat\", rand_lat)\n",
    "        cities_df.set_value(record, \"rand_lng\", rand_lng)\n",
    "        cities_df.set_value(record, \"Latitude\", latitude)\n",
    "        cities_df.set_value(record, \"Longitude\", longitude)\n",
    "        cities_df.set_value(record, \"Temp (F)\", temp)\n",
    "        cities_df.set_value(record, \"Humidity (%)\", humidity)\n",
    "        cities_df.set_value(record, \"Cloudiness (%)\", cloud)\n",
    "        cities_df.set_value(record, \"Wind Speed (mph)\", wind)\n",
    "\n",
    "        record += 1\n",
    "        \n",
    "        # Wait between 1-15 seconds before next loop\n",
    "        time.sleep(random.randint(1, 15))\n",
    "        \n",
    "    else:\n",
    "        pass\n",
    "    \n",
    "print(\n",
    "\"------------------------------\\n\"\n",
    "\"Data Retrieval Complete\\n\"\n",
    "\"------------------------------\\n\"\n",
    ")\n",
    "\n",
    "# Visualize df\n",
    "cities_df.head()"
   ]
  },
  {
   "cell_type": "code",
   "execution_count": 6,
   "metadata": {},
   "outputs": [
    {
     "data": {
      "text/plain": [
       "50"
      ]
     },
     "execution_count": 6,
     "metadata": {},
     "output_type": "execute_result"
    }
   ],
   "source": [
    "# The total sample size.\n",
    "len(cities_df)"
   ]
  },
  {
   "cell_type": "code",
   "execution_count": 7,
   "metadata": {},
   "outputs": [
    {
     "data": {
      "image/png": "[encoded data removed]",
      "text/plain": [
       "<matplotlib.figure.Figure at 0x2051b10bb38>"
      ]
     },
     "metadata": {},
     "output_type": "display_data"
    }
   ],
   "source": [
    "# This is a simple plot of latitude and longitude: it confirms that the sample is sufficiently random across\n",
    "# the \"map\" of the world that it shows.\n",
    "sns.set_style('ticks')\n",
    "fig, ax = plt.subplots()\n",
    "fig.set_size_inches(16, 9)\n",
    "p = sns.regplot(x=\"Longitude\", y=\"Latitude\", data=cities_df, fit_reg=False).set_title('City Distribution by Latitude and Longitude')\n",
    "plt.show()"
   ]
  },
  {
   "cell_type": "markdown",
   "metadata": {
    "collapsed": true
   },
   "source": [
    "## Save csv"
   ]
  },
  {
   "cell_type": "code",
   "execution_count": null,
   "metadata": {
    "collapsed": true
   },
   "outputs": [],
   "source": [
    "# Save the DataFrame as a csv\n",
    "cities_df.to_csv(\"Output/weatherpy_data.csv\", encoding=\"utf-8\", index=False)"
   ]
  },
  {
   "cell_type": "markdown",
   "metadata": {
    "collapsed": true
   },
   "source": [
    "## Plot Graphs"
   ]
  },
  {
   "cell_type": "markdown",
   "metadata": {
    "collapsed": true
   },
   "source": [
    "###  Latitude vs. Temperature Plot"
   ]
  },
  {
   "cell_type": "code",
   "execution_count": 9,
   "metadata": {},
   "outputs": [
    {
     "data": {
      "image/png": "[encoded data removed]",
      "text/plain": [
       "<matplotlib.figure.Figure at 0x2051b1aae80>"
      ]
     },
     "metadata": {},
     "output_type": "display_data"
    }
   ],
   "source": [
    "# Build a scatter plot City Latitude vs. Temperature\n",
    "plt.scatter(cities_df[\"Latitude\"], \n",
    "            cities_df[\"Temp (F)\"],\n",
    "            edgecolor=\"black\", linewidths=1, marker=\"o\", \n",
    "            alpha=0.8)\n",
    "\n",
    "# Incorporate the other graph properties\n",
    "plt.title(\"City Latitude vs. Temperature\")\n",
    "plt.ylabel(\"Temperature (F)\")\n",
    "plt.xlabel(\"Latitude\")\n",
    "plt.grid(True)\n",
    "plt.xlim([min(cities_df[\"Latitude\"]-5), max(cities_df[\"Latitude\"]+5)])\n",
    "plt.ylim([min(cities_df[\"Temp (F)\"]-5), max(cities_df[\"Temp (F)\"]+5)])\n",
    "\n",
    "# Save the figure\n",
    "plt.savefig(\"Output/lat_v_temp.png\")\n",
    "\n",
    "# Show plot\n",
    "plt.show()"
   ]
  },
  {
   "cell_type": "markdown",
   "metadata": {
    "collapsed": true
   },
   "source": [
    "### Latitude vs. Humidity Plot"
   ]
  },
  {
   "cell_type": "code",
   "execution_count": 10,
   "metadata": {
    "scrolled": true
   },
   "outputs": [
    {
     "data": {
      "image/png": "[encoded data removed]",
      "text/plain": [
       "<matplotlib.figure.Figure at 0x2051b4d80b8>"
      ]
     },
     "metadata": {},
     "output_type": "display_data"
    }
   ],
   "source": [
    "# Build a scatter plot City Latitude vs. Humidity\n",
    "plt.scatter(cities_df[\"Latitude\"], \n",
    "            cities_df[\"Humidity (%)\"],\n",
    "            edgecolor=\"black\", linewidths=1, marker=\"o\", \n",
    "            alpha=0.8)\n",
    "\n",
    "# Incorporate the other graph properties\n",
    "plt.title(\"City Latitude vs. Humidity\")\n",
    "plt.ylabel(\"Humidity (%)\")\n",
    "plt.xlabel(\"Latitude\")\n",
    "plt.grid(True)\n",
    "plt.xlim([min(cities_df[\"Latitude\"]-5), max(cities_df[\"Latitude\"]+5)])\n",
    "plt.ylim([min(cities_df[\"Humidity (%)\"]-5), max(cities_df[\"Humidity (%)\"]+5)])\n",
    "\n",
    "# Save the figure\n",
    "plt.savefig(\"Output/lat_v_humidity.png\")\n",
    "\n",
    "# Show plot\n",
    "plt.show()"
   ]
  },
  {
   "cell_type": "markdown",
   "metadata": {
    "collapsed": true
   },
   "source": [
    "### Latitude vs. Cloudiness Plot"
   ]
  },
  {
   "cell_type": "code",
   "execution_count": 11,
   "metadata": {
    "scrolled": true
   },
   "outputs": [
    {
     "data": {
      "image/png": "[encoded data removed]",
      "text/plain": [
       "<matplotlib.figure.Figure at 0x2051b583e80>"
      ]
     },
     "metadata": {},
     "output_type": "display_data"
    }
   ],
   "source": [
    "# Build a scatter plot City Latitude vs. Cloudiness\n",
    "plt.scatter(cities_df[\"Latitude\"], \n",
    "            cities_df[\"Cloudiness (%)\"],\n",
    "            edgecolor=\"black\", linewidths=1, marker=\"o\", \n",
    "            alpha=0.8)\n",
    "\n",
    "# Incorporate the other graph properties\n",
    "plt.title(\"City Latitude vs. Cloudiness\")\n",
    "plt.ylabel(\"Cloudiness (%)\")\n",
    "plt.xlabel(\"Latitude\")\n",
    "plt.grid(True)\n",
    "plt.xlim([min(cities_df[\"Latitude\"]-5), max(cities_df[\"Latitude\"]+5)])\n",
    "plt.ylim([min(cities_df[\"Cloudiness (%)\"]-5), max(cities_df[\"Cloudiness (%)\"]+5)])\n",
    "\n",
    "# Save the figure\n",
    "plt.savefig(\"Output/lat_v_cloud.png\")\n",
    "\n",
    "# Show plot\n",
    "plt.show()"
   ]
  },
  {
   "cell_type": "markdown",
   "metadata": {
    "collapsed": true
   },
   "source": [
    "### Latitude vs. Wind Speed Plot"
   ]
  },
  {
   "cell_type": "code",
   "execution_count": 12,
   "metadata": {},
   "outputs": [
    {
     "data": {
      "image/png": "[encoded data removed]",
      "text/plain": [
       "<matplotlib.figure.Figure at 0x2051b2efe10>"
      ]
     },
     "metadata": {},
     "output_type": "display_data"
    }
   ],
   "source": [
    "# Build a scatter plot City Latitude vs. Wind Speed\n",
    "plt.scatter(cities_df[\"Latitude\"], \n",
    "            cities_df[\"Wind Speed (mph)\"],\n",
    "            edgecolor=\"black\", linewidths=1, marker=\"o\", \n",
    "            alpha=0.8)\n",
    "\n",
    "# Incorporate the other graph properties\n",
    "plt.title(\"City Latitude vs. Wind Speed\")\n",
    "plt.ylabel(\"Wind Speed (mph)\")\n",
    "plt.xlabel(\"Latitude\")\n",
    "plt.grid(True)\n",
    "plt.xlim([min(cities_df[\"Latitude\"]-5), max(cities_df[\"Latitude\"]+5)])\n",
    "plt.ylim([min(cities_df[\"Wind Speed (mph)\"]-5), max(cities_df[\"Wind Speed (mph)\"]+5)])\n",
    "\n",
    "# Save the figure\n",
    "plt.savefig(\"Output/lat_v_wind.png\")\n",
    "\n",
    "# Show plot\n",
    "plt.show()"
   ]
  }
 ],
 "metadata": {
  "kernelspec": {
   "display_name": "Python 3",
   "language": "python",
   "name": "python3"
  },
  "language_info": {
   "codemirror_mode": {
    "name": "ipython",
    "version": 3
   },
   "file_extension": ".py",
   "mimetype": "text/x-python",
   "name": "python",
   "nbconvert_exporter": "python",
   "pygments_lexer": "ipython3",
   "version": "3.6.0"
  }
 },
 "nbformat": 4,
 "nbformat_minor": 2
}
